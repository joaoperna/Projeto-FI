{
 "cells": [
  {
   "cell_type": "markdown",
   "metadata": {},
   "source": [
    "# 📌 AUTOML COM PYCARET - CLASSIFICAÇÃO EM FUNDOS IMOBILIÁRIOS"
   ]
  },
  {
   "cell_type": "markdown",
   "metadata": {},
   "source": [
    "# 🚀 Passo 1: Instalação Condicional de Bibliotecas e importação das bibliotecas "
   ]
  },
  {
   "cell_type": "code",
   "execution_count": null,
   "metadata": {},
   "outputs": [],
   "source": [
    "## Criando e ativando um ambiente virtual\n",
    "## O pycaret não funciona nas novas versões do python\n",
    "# conda create --prefix ./env python=3.10 -y\n",
    "# conda activate ./env\n",
    "# conda install -p \"c:...\" ipykernel --update-deps --force-reinstall\n"
   ]
  },
  {
   "cell_type": "code",
   "execution_count": 2,
   "metadata": {},
   "outputs": [],
   "source": [
    "import sys\n",
    "import subprocess\n",
    "# Lista de bibliotecas necessárias\n",
    "libraries = [\n",
    "    \"pycaret\", \"pandas\", \"numpy\", \"matplotlib\", \n",
    "    \"seaborn\", \"openpyxl\", \"scikit-learn\"\n",
    "]\n",
    "\n",
    "# Função para instalar bibliotecas ausentes\n",
    "def install_if_missing(lib):\n",
    "    if lib not in sys.modules:\n",
    "        subprocess.check_call([sys.executable, \"-m\", \"pip\", \"install\", lib])\n",
    "\n",
    "# Verificar e instalar bibliotecas\n",
    "for lib in libraries:\n",
    "    install_if_missing(lib)\n",
    "\n",
    "# 📚 Passo 2: Importação das Bibliotecas\n",
    "import pandas as pd\n",
    "import numpy as np\n",
    "import matplotlib.pyplot as plt\n",
    "import seaborn as sns\n",
    "from sklearn.model_selection import train_test_split\n",
    "from sklearn.preprocessing import StandardScaler\n",
    "from pycaret.classification import *\n",
    "\n",
    "# Configuração global de plots\n",
    "sns.set_style(\"whitegrid\")"
   ]
  },
  {
   "cell_type": "markdown",
   "metadata": {},
   "source": [
    "# 🗂️ Passo 3: Carregar os Dados"
   ]
  },
  {
   "cell_type": "code",
   "execution_count": 3,
   "metadata": {},
   "outputs": [
    {
     "name": "stdout",
     "output_type": "stream",
     "text": [
      "Unexpected exception formatting exception. Falling back to standard exception\n"
     ]
    },
    {
     "name": "stderr",
     "output_type": "stream",
     "text": [
      "Traceback (most recent call last):\n",
      "  File \"c:\\Users\\Joao\\Desktop\\project FI\\env\\lib\\site-packages\\IPython\\core\\interactiveshell.py\", line 3577, in run_code\n",
      "    await eval(code_obj, self.user_global_ns, self.user_ns)\n",
      "  File \"C:\\Users\\Joao\\AppData\\Local\\Temp\\ipykernel_22872\\913730433.py\", line 2, in <module>\n",
      "    df = pd.read_excel(\"seu_arquivo.xlsx\")\n",
      "  File \"c:\\Users\\Joao\\Desktop\\project FI\\env\\lib\\site-packages\\pandas\\io\\excel\\_base.py\", line 504, in read_excel\n",
      "    io = ExcelFile(\n",
      "  File \"c:\\Users\\Joao\\Desktop\\project FI\\env\\lib\\site-packages\\pandas\\io\\excel\\_base.py\", line 1563, in __init__\n",
      "    ext = inspect_excel_format(\n",
      "  File \"c:\\Users\\Joao\\Desktop\\project FI\\env\\lib\\site-packages\\pandas\\io\\excel\\_base.py\", line 1419, in inspect_excel_format\n",
      "    with get_handle(\n",
      "  File \"c:\\Users\\Joao\\Desktop\\project FI\\env\\lib\\site-packages\\pandas\\io\\common.py\", line 872, in get_handle\n",
      "    handle = open(handle, ioargs.mode)\n",
      "FileNotFoundError: [Errno 2] No such file or directory: 'seu_arquivo.xlsx'\n",
      "\n",
      "During handling of the above exception, another exception occurred:\n",
      "\n",
      "Traceback (most recent call last):\n",
      "  File \"c:\\Users\\Joao\\Desktop\\project FI\\env\\lib\\site-packages\\IPython\\core\\interactiveshell.py\", line 2168, in showtraceback\n",
      "    stb = value._render_traceback_()\n",
      "  File \"c:\\Users\\Joao\\Desktop\\project FI\\env\\lib\\site-packages\\IPython\\core\\ultratb.py\", line 1457, in structured_traceback\n",
      "    return FormattedTB.structured_traceback(\n",
      "  File \"c:\\Users\\Joao\\Desktop\\project FI\\env\\lib\\site-packages\\IPython\\core\\ultratb.py\", line 1348, in structured_traceback\n",
      "    return VerboseTB.structured_traceback(\n",
      "  File \"c:\\Users\\Joao\\Desktop\\project FI\\env\\lib\\site-packages\\IPython\\core\\ultratb.py\", line 1195, in structured_traceback\n",
      "    formatted_exception = self.format_exception_as_a_whole(etype, evalue, etb, number_of_lines_of_context,\n",
      "  File \"c:\\Users\\Joao\\Desktop\\project FI\\env\\lib\\site-packages\\IPython\\core\\ultratb.py\", line 1110, in format_exception_as_a_whole\n",
      "    frames.append(self.format_record(record))\n",
      "  File \"c:\\Users\\Joao\\Desktop\\project FI\\env\\lib\\site-packages\\IPython\\core\\ultratb.py\", line 992, in format_record\n",
      "    frame_info.lines, Colors, self.has_colors, lvals\n",
      "  File \"c:\\Users\\Joao\\Desktop\\project FI\\env\\lib\\site-packages\\IPython\\core\\ultratb.py\", line 804, in lines\n",
      "    return self._sd.lines\n",
      "  File \"c:\\Users\\Joao\\Desktop\\project FI\\env\\lib\\site-packages\\stack_data\\utils.py\", line 145, in cached_property_wrapper\n",
      "    value = obj.__dict__[self.func.__name__] = self.func(obj)\n",
      "  File \"c:\\Users\\Joao\\Desktop\\project FI\\env\\lib\\site-packages\\stack_data\\core.py\", line 734, in lines\n",
      "    pieces = self.included_pieces\n",
      "  File \"c:\\Users\\Joao\\Desktop\\project FI\\env\\lib\\site-packages\\stack_data\\utils.py\", line 145, in cached_property_wrapper\n",
      "    value = obj.__dict__[self.func.__name__] = self.func(obj)\n",
      "  File \"c:\\Users\\Joao\\Desktop\\project FI\\env\\lib\\site-packages\\stack_data\\core.py\", line 677, in included_pieces\n",
      "    scope_pieces = self.scope_pieces\n",
      "  File \"c:\\Users\\Joao\\Desktop\\project FI\\env\\lib\\site-packages\\stack_data\\utils.py\", line 145, in cached_property_wrapper\n",
      "    value = obj.__dict__[self.func.__name__] = self.func(obj)\n",
      "  File \"c:\\Users\\Joao\\Desktop\\project FI\\env\\lib\\site-packages\\stack_data\\core.py\", line 614, in scope_pieces\n",
      "    scope_start, scope_end = self.source.line_range(self.scope)\n",
      "  File \"c:\\Users\\Joao\\Desktop\\project FI\\env\\lib\\site-packages\\stack_data\\core.py\", line 178, in line_range\n",
      "    return line_range(self.asttext(), node)\n",
      "AttributeError: 'Source' object has no attribute 'asttext'\n"
     ]
    }
   ],
   "source": [
    "# Carregar os dados do Excel\n",
    "df = pd.read_excel(\"seu_arquivo.xlsx\")\n",
    "\n",
    "# Exibir as primeiras linhas\n",
    "df.head()"
   ]
  },
  {
   "cell_type": "markdown",
   "metadata": {},
   "source": [
    "# 🔍 Passo 4: Verificação de Consistência dos Dados"
   ]
  },
  {
   "cell_type": "code",
   "execution_count": null,
   "metadata": {},
   "outputs": [],
   "source": [
    "# 4.1 Verificar informações gerais\n",
    "df.info()\n",
    "\n",
    "# 4.2 Estatísticas descritivas\n",
    "df.describe()\n",
    "\n",
    "# 4.3 Contagem de valores nulos\n",
    "print(\"\\nValores nulos por coluna:\\n\", df.isnull().sum())\n",
    "\n",
    "# 4.4 Detectar variáveis constantes e quase constantes\n",
    "def check_constant_features(df, threshold=0.99):\n",
    "    \"\"\" Identifica variáveis com baixa variação \"\"\"\n",
    "    constant_features = []\n",
    "    for col in df.select_dtypes(include=['number']).columns:\n",
    "        top_freq = df[col].value_counts(normalize=True, dropna=False).values[0]\n",
    "        if top_freq >= threshold:\n",
    "            constant_features.append(col)\n",
    "    return constant_features\n",
    "\n",
    "const_features = check_constant_features(df)\n",
    "print(f\"\\n🔴 Variáveis Quase Constantes (threshold=99%): {const_features}\")\n",
    "\n",
    "# 4.5 Verificar classes raras na variável alvo\n",
    "if \"target\" in df.columns:\n",
    "    class_counts = df[\"target\"].value_counts(normalize=True)\n",
    "    rare_classes = class_counts[class_counts < 0.05].index.tolist()\n",
    "    print(f\"\\n🔴 Classes Raras (<5% de representatividade): {rare_classes}\")\n",
    "\n",
    "# 4.6 Matriz de Correlação\n",
    "plt.figure(figsize=(12,6))\n",
    "sns.heatmap(df.corr(), annot=True, cmap='coolwarm', fmt=\".2f\")\n",
    "plt.title(\"Matriz de Correlação\")\n",
    "plt.show()\n"
   ]
  },
  {
   "cell_type": "markdown",
   "metadata": {},
   "source": [
    "# 🛠️ Passo 5: Pré-Processamento e Feature Engineering"
   ]
  },
  {
   "cell_type": "code",
   "execution_count": null,
   "metadata": {},
   "outputs": [],
   "source": [
    "# Converter variáveis categóricas em dummies (exemplo: normativas estaduais)\n",
    "df = pd.get_dummies(df, columns=['normativa_estado'], drop_first=True)\n",
    "\n",
    "# Lidar com valores ausentes (preenchimento com mediana)\n",
    "df.fillna(df.median(), inplace=True)\n",
    "\n",
    "# Remover variáveis constantes\n",
    "df.drop(columns=const_features, inplace=True)\n",
    "\n",
    "# Separar features e variável alvo\n",
    "X = df.drop(columns=['target'])\n",
    "y = df['target']\n",
    "\n",
    "# Dividir em treino e teste\n",
    "X_train, X_test, y_train, y_test = train_test_split(X, y, test_size=0.2, random_state=42)\n",
    "\n",
    "# Normalizar os dados\n",
    "scaler = StandardScaler()\n",
    "X_train_scaled = scaler.fit_transform(X_train)\n",
    "X_test_scaled = scaler.transform(X_test)"
   ]
  },
  {
   "cell_type": "markdown",
   "metadata": {},
   "source": [
    "# 🚀 Passo 6: Configuração do AutoML com PyCaret"
   ]
  },
  {
   "cell_type": "code",
   "execution_count": null,
   "metadata": {},
   "outputs": [],
   "source": [
    "# Criar dataframe com treino para o PyCaret\n",
    "df_train = pd.DataFrame(X_train_scaled, columns=X.columns)\n",
    "df_train['target'] = y_train.values\n",
    "\n",
    "# Inicializar a configuração do PyCaret\n",
    "clf = setup(data=df_train, target='target', session_id=42, \n",
    "            normalize=True, \n",
    "            categorical_features=['normativa_estado'],\n",
    "            feature_selection=True, \n",
    "            remove_multicollinearity=True,\n",
    "            transformation=True,\n",
    "            fix_imbalance=True) \n"
   ]
  },
  {
   "cell_type": "markdown",
   "metadata": {},
   "source": [
    "# 🏆 Passo 7: Treinamento e Comparação de Modelos"
   ]
  },
  {
   "cell_type": "code",
   "execution_count": null,
   "metadata": {},
   "outputs": [],
   "source": [
    "# Treinar e comparar diferentes modelos automaticamente\n",
    "best_model = compare_models()"
   ]
  },
  {
   "cell_type": "markdown",
   "metadata": {},
   "source": [
    "# 🔍 Passo 8: Ajuste do Melhor Modelo"
   ]
  },
  {
   "cell_type": "code",
   "execution_count": null,
   "metadata": {},
   "outputs": [],
   "source": [
    "# Criar o melhor modelo encontrado\n",
    "final_model = create_model(best_model)\n",
    "\n",
    "# Ajustar hiperparâmetros\n",
    "tuned_model = tune_model(final_model)"
   ]
  },
  {
   "cell_type": "markdown",
   "metadata": {},
   "source": [
    "# 📈 Passo 9: Avaliação do Modelo"
   ]
  },
  {
   "cell_type": "code",
   "execution_count": null,
   "metadata": {},
   "outputs": [],
   "source": [
    "# Avaliar o modelo\n",
    "evaluate_model(tuned_model)\n",
    "\n",
    "# Exibir a importância das features\n",
    "plot_model(tuned_model, plot='feature')"
   ]
  },
  {
   "cell_type": "markdown",
   "metadata": {},
   "source": [
    "# 🎯 Passo 10: Predições em Novos Dados"
   ]
  },
  {
   "cell_type": "code",
   "execution_count": null,
   "metadata": {},
   "outputs": [],
   "source": [
    "# Fazer previsões nos dados de teste\n",
    "df_test = pd.DataFrame(X_test_scaled, columns=X.columns)\n",
    "df_test['target'] = y_test.values\n",
    "\n",
    "predictions = predict_model(tuned_model, data=df_test)\n",
    "\n",
    "# Exibir previsões\n",
    "predictions.head()"
   ]
  }
 ],
 "metadata": {
  "kernelspec": {
   "display_name": "Python 3",
   "language": "python",
   "name": "python3"
  },
  "language_info": {
   "codemirror_mode": {
    "name": "ipython",
    "version": 3
   },
   "file_extension": ".py",
   "mimetype": "text/x-python",
   "name": "python",
   "nbconvert_exporter": "python",
   "pygments_lexer": "ipython3",
   "version": "3.10.16"
  }
 },
 "nbformat": 4,
 "nbformat_minor": 2
}
